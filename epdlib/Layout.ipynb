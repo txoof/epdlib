{
 "cells": [
  {
   "cell_type": "code",
   "execution_count": null,
   "metadata": {},
   "outputs": [],
   "source": []
  },
  {
   "cell_type": "code",
   "execution_count": null,
   "metadata": {},
   "outputs": [],
   "source": []
  },
  {
   "cell_type": "code",
   "execution_count": null,
   "metadata": {},
   "outputs": [],
   "source": []
  },
  {
   "cell_type": "code",
   "execution_count": null,
   "metadata": {},
   "outputs": [],
   "source": []
  },
  {
   "cell_type": "code",
   "execution_count": 4,
   "metadata": {},
   "outputs": [],
   "source": [
    "import logging\n",
    "from pathlib import Path\n",
    "import copy\n",
    "from PIL import Image, ImageDraw, ImageFont"
   ]
  },
  {
   "cell_type": "code",
   "execution_count": null,
   "metadata": {},
   "outputs": [],
   "source": []
  },
  {
   "cell_type": "code",
   "execution_count": null,
   "metadata": {
    "lines_to_next_cell": 2
   },
   "outputs": [],
   "source": []
  },
  {
   "cell_type": "code",
   "execution_count": null,
   "metadata": {
    "lines_to_next_cell": 2
   },
   "outputs": [],
   "source": [
    "try:\n",
    "    from . import constants\n",
    "    from . import version\n",
    "except ImportError as e:\n",
    "    import constants\n",
    "    import version"
   ]
  },
  {
   "cell_type": "code",
   "execution_count": 5,
   "metadata": {},
   "outputs": [],
   "source": [
    "try: \n",
    "    from . import Block as Block\n",
    "except ImportError as e:\n",
    "    import Block as Block"
   ]
  },
  {
   "cell_type": "code",
   "execution_count": null,
   "metadata": {},
   "outputs": [],
   "source": []
  },
  {
   "cell_type": "code",
   "execution_count": null,
   "metadata": {
    "lines_to_next_cell": 2
   },
   "outputs": [],
   "source": []
  },
  {
   "cell_type": "code",
   "execution_count": 6,
   "metadata": {},
   "outputs": [],
   "source": [
    "logger = logging.getLogger(__name__)"
   ]
  },
  {
   "cell_type": "code",
   "execution_count": null,
   "metadata": {},
   "outputs": [],
   "source": []
  },
  {
   "cell_type": "code",
   "execution_count": null,
   "metadata": {
    "lines_to_next_cell": 2
   },
   "outputs": [],
   "source": []
  },
  {
   "cell_type": "code",
   "execution_count": 7,
   "metadata": {},
   "outputs": [],
   "source": [
    "def strict_enforce(*types):\n",
    "    \"\"\"strictly enforce type compliance within classes\n",
    "    \n",
    "    Usage:\n",
    "        @strict_enforce(type1, type2, (type3, type4))\n",
    "        def foo(val1, val2, val3):\n",
    "            ...\n",
    "    \"\"\"\n",
    "    def decorator(f):\n",
    "        def new_f(self, *args, **kwds):\n",
    "            #we need to convert args into something mutable   \n",
    "            newargs = []        \n",
    "            for (a, t) in zip(args, types):\n",
    "                if not isinstance(a, t):\n",
    "                    raise TypeError(f'\"{a}\" is not type {t}')\n",
    "#                 newargs.append( t(a)) #feel free to have more elaborated convertion\n",
    "            return f(self, *args, **kwds)\n",
    "        return new_f\n",
    "    return decorator"
   ]
  },
  {
   "cell_type": "code",
   "execution_count": null,
   "metadata": {},
   "outputs": [],
   "source": []
  },
  {
   "cell_type": "code",
   "execution_count": null,
   "metadata": {
    "lines_to_next_cell": 2
   },
   "outputs": [],
   "source": []
  },
  {
   "cell_type": "code",
   "execution_count": 8,
   "metadata": {},
   "outputs": [],
   "source": [
    "class Layout:\n",
    "    def __init__(self, resolution, layout=None, force_onebit=False, mode=None):\n",
    "        \n",
    "        if mode is None:\n",
    "            mode = '1'\n",
    "        \n",
    "        self.resolution = resolution\n",
    "        self.force_onebit = force_onebit\n",
    "        self.mode = mode\n",
    "        self.layout = layout\n",
    "        \n",
    "    @property\n",
    "    def resolution(self):\n",
    "        return self._resolution\n",
    "    \n",
    "    @resolution.setter\n",
    "    @strict_enforce((list, tuple))\n",
    "    def resolution(self, resolution):\n",
    "        for i in resolution:\n",
    "            if i < 0 or not isinstance(i, int):\n",
    "                raise ValueError(f'resolution values must be positive integers: {resolution}')\n",
    "        \n",
    "        self._resolution = resolution\n",
    "        \n",
    "        # force an update to the layout when the resolution is reset\n",
    "        try:\n",
    "            # deepcopy the master_layout into the layout property and preserve the layout\n",
    "            self.layout = copy.deepcopy(self._master_layout)\n",
    "        except AttributeError:\n",
    "            pass\n",
    "        \n",
    "    @property\n",
    "    def layout(self):\n",
    "        return self._layout\n",
    "\n",
    "    @layout.setter\n",
    "    @strict_enforce((dict, type(None)))\n",
    "    def layout(self, layout):\n",
    "        '''set the layout property, calculates positions and creates the blocks \n",
    "        \n",
    "        Sets:\n",
    "            self.layout\n",
    "            self.blocks\n",
    "            '''\n",
    "        # deep copy the provided layout into the \n",
    "        self._master_layout = copy.deepcopy(layout)\n",
    "        self.blocks = {}\n",
    "\n",
    "        \n",
    "        if self._master_layout:\n",
    "            self._calculate_layout()\n",
    "            \n",
    "            blocks = {}\n",
    "            logging.debug(f'layout config: resolution, {self.resolution}, force_onebit: {self.force_onebit}, mode: {self.mode}')\n",
    "            logging.info(f'[[{\"SETTING SECTION BLOCKS\":_^30}]]')\n",
    "            for name, values in self.layout.items():\n",
    "                blocks[name] = self.set_block(name, values)\n",
    "            self.blocks = blocks\n",
    "        else:\n",
    "            logging.debug('NO MASTER LAYOUT YET')\n",
    "\n",
    "\n",
    "    def set_block(self, name, values, force_recalc=False):\n",
    "        '''create a block object using values\n",
    "        \n",
    "        Allows recalculating all blocks; this is useful if the area, resolution,\n",
    "        or coordinates are changed.\n",
    "        \n",
    "        Args:\n",
    "            name(str): reference name for block\n",
    "            values(dict): settings for block\n",
    "            force_recalc(bool): force recalculation of all the blocks'''\n",
    "        logging.info(f'setting section: [{name:_^30}]')\n",
    "        \n",
    "        \n",
    "        if force_recalc:\n",
    "            self._calculate_layout()\n",
    "            \n",
    "        # scale the selected font face size into the available area/lines\n",
    "        if values['type'] == 'TextBlock':\n",
    "            values['font_size'] = self._scale_font(values)        \n",
    "        \n",
    "        values['mode'] = values.get('mode', self.mode)\n",
    "        \n",
    "        if values.get('rgb_support', False) and self.mode == 'RGB':\n",
    "            values['mode'] = 'RGB'\n",
    "        \n",
    "        if self.force_onebit:\n",
    "            values['mode'] = '1'\n",
    "            logging.debug('forcing block to 1 bit mode')\n",
    "            \n",
    "\n",
    "        logging.debug(f'setting block type: {values[\"type\"]}')\n",
    "        try:\n",
    "            block = getattr(Block, values['type'])(**values)\n",
    "\n",
    "        except AttributeError:\n",
    "            raise AttributeError(f'module \"Block\" has no attribute {values[\"type\"]}. error in section: {section}')\n",
    "        \n",
    "        if block.border_config.get('sides', False):\n",
    "            block.border_config['fill'] = block.fill\n",
    "        \n",
    "        return block\n",
    "\n",
    "    def _add_defaults(self):\n",
    "        '''check that layout contains the minimum default values '''\n",
    "        try:\n",
    "            if not self._layout:\n",
    "                return\n",
    "        except AttributeError:\n",
    "            return\n",
    "\n",
    "        logging.debug('[[----checking default values for layout----]')\n",
    "        for section, values in self.layout.items():\n",
    "            logging.debug(f'section: [{section:-^30}]')\n",
    "            \n",
    "            \n",
    "            if not 'type' in values:\n",
    "                logging.critical(f'epdlib v{version.__version__}: section \"{section}\" is missing key \"type\". As of v0.6 all layout sections must include the key \"type\". Please see v0.5 changelog')\n",
    "                raise KeyError(f'section \"{section}\" is missing key \"type\"! Each section in the layout must have an explicit block type')\n",
    "                \n",
    "            else:\n",
    "                my_type = values['type']\n",
    "                \n",
    "            try:\n",
    "                my_defaults = getattr(constants, f'LAYOUT_{my_type.upper()}_DEFAULTS')\n",
    "            except AttributeError:\n",
    "                raise ModuleNotFoundError(f'\"Block\" objects do not have a block type \"{my_type}\"')\n",
    "            \n",
    "            ### add kludge to bridge between 0.5 and 0.6 -- temporarily allow no type and guess \n",
    "            \n",
    "            for key, default in my_defaults.items():\n",
    "                if not key in values:\n",
    "                    values[key] = default\n",
    "                    logging.debug(f'adding \"{key}: {default}\"')\n",
    "            \n",
    "            for key, default in constants.LAYOUT_DEFAULTS.items():\n",
    "                if not key in values:\n",
    "                    values[key] = default\n",
    "                    logging.debug(f'adding \"{key}: {default}\"')\n",
    "                    \n",
    "            self.layout[section] = values\n",
    "\n",
    "            \n",
    "    def _calculate_layout(self):\n",
    "        '''calculate values for each block based on resolution, absolute and relative positions'''\n",
    "        \n",
    "        try:\n",
    "            # always start with a fresh copy of the `master_layout` and recalculate everything\n",
    "            self._layout = copy.deepcopy(self._master_layout)\n",
    "        except AttributeError:\n",
    "            return\n",
    "        \n",
    "        self._add_defaults()\n",
    "        \n",
    "        logging.debug('[[....calculating layouts....]]')\n",
    "        for section, values in self.layout.items() :\n",
    "            logging.info(f'section: [{section:.^30}]')\n",
    "            \n",
    "            # calculate absolute area and padded area of each block\n",
    "            \n",
    "            logging.debug(f\"resolution: {self.resolution}\")\n",
    "            logging.debug(f\"width: {values['width']}, height: {values['height']}\")\n",
    "\n",
    "            area = (round(self.resolution[0]*values['width']), \n",
    "                    round(self.resolution[1]*values['height']))\n",
    "            \n",
    "            padded_area = (area[0] - (2* values['padding']),\n",
    "                           area[1] - (2* values['padding']))\n",
    "        \n",
    "            values['area'] = area\n",
    "            values['padded_area'] = padded_area\n",
    "            logging.debug(f'area: {area}, padded_area: {padded_area}')\n",
    "        \n",
    "        \n",
    "            # calculate absolute position for each block using the relative positions of reference block(s)\n",
    "            if values['abs_coordinates'][0] is None or values['abs_coordinates'][1] is None:\n",
    "                logging.debug('calculating block position from relative positions')\n",
    "                pos = [None, None]\n",
    "                \n",
    "                if not isinstance(values['relative'], (tuple, list)):\n",
    "                    raise KeyError(f'section \"{section}\" has a missing or malformed \"relative\" key.')\n",
    "                    \n",
    "                \n",
    "                for index, val in enumerate(values['relative']):\n",
    "                    # use the absolute value provided in this section\n",
    "                    if val == section:\n",
    "                        pos[index] = values['abs_coordinates'][index]\n",
    "                    else:\n",
    "                        # calculate position relative to another block\n",
    "                        try:\n",
    "                            pos[index] = self.layout[val]['area'][index] + self.layout[val]['abs_coordinates'][index]\n",
    "                        except KeyError:\n",
    "                            raise KeyError(f'bad relative section value: could not locate relative section \"{val}\"  when processing section \"{section}\"')\n",
    "                values['abs_coordinates'] = (pos[0], pos[1])\n",
    "            else: \n",
    "                logging.debug('absolute coordinates provided')\n",
    "            \n",
    "            logging.debug(f'block coordinates: {values[\"abs_coordinates\"]}')            \n",
    "    \n",
    "    @staticmethod\n",
    "    def _scale_font(this_section):\n",
    "        '''scale a font face into the avaialble area/max-lines settings\n",
    "\n",
    "        Args:\n",
    "            this_section(dict): layout section dictionary\n",
    "\n",
    "        Returns\n",
    "            fontsize(int): integer value for font size'''\n",
    "        text = constants.LAYOUT_SCALE_FONT_TEXT\n",
    "        logging.debug('scaling font size')\n",
    "        x_target, y_target = this_section['padded_area']\n",
    "\n",
    "        y_target = y_target/this_section['max_lines']\n",
    "        font = this_section['font']        \n",
    "\n",
    "        cont = True\n",
    "        fontsize = 0\n",
    "        # try different font sizes until an a value that fits within the y_target value is found\n",
    "        while cont:\n",
    "            fontsize += 1\n",
    "            testfont = ImageFont.truetype(font, fontsize)\n",
    "\n",
    "            fontdim = testfont.getbbox(text)\n",
    "\n",
    "            if fontdim[2] > x_target:\n",
    "                cont = False\n",
    "                logging.debug('x target size reached')\n",
    "\n",
    "            if fontdim[3] > y_target:\n",
    "                cont = False\n",
    "                logging.debug('y target size reached')\n",
    "\n",
    "        fontsize -= 1\n",
    "        logging.debug(f'calculated font size: {fontsize}')\n",
    "        return fontsize\n",
    "    \n",
    "    def update_block_props(self, block, props={}, force_recalc=False):\n",
    "        '''update the properties of a block and optionally recalculates all of the \n",
    "        block areas \n",
    "        \n",
    "        block(str): name of block\n",
    "        props(dict): properties to update or add\n",
    "        force_recalc(bool): force recalculation of all blocks\n",
    "        '''\n",
    "        self.layout[block].update(props)\n",
    "        self.blocks[block] = self.set_block(block, self.layout[block], force_recalc)\n",
    "                \n",
    "    \n",
    "    def update_contents(self, update=None):\n",
    "        if not update:\n",
    "            return\n",
    "        \n",
    "        if not isinstance(update, dict):\n",
    "            raise TypeError('update must be of type `dict`')\n",
    "\n",
    "        unknown_keys = {}\n",
    "        for key, val in update.items():\n",
    "            if key in self.blocks:\n",
    "                self.blocks[key].update(val)\n",
    "            else:\n",
    "                unknown_keys[key] = val\n",
    "                # logging.debug(f'\"{key}\" is not a recognized block, skipping')\n",
    "\n",
    "        if len(unknown_keys) > 0:\n",
    "            logging.debug(f'{len(unknown_keys)} unrecognized keys were provided, but not used')\n",
    "            \n",
    "                \n",
    "    def concat(self):\n",
    "        self.image = Image.new(self.mode, self.resolution, 'white')\n",
    "        if self.blocks:\n",
    "            for b in self.blocks:\n",
    "                self.image.paste(self.blocks[b].image, self.blocks[b].abs_coordinates)\n",
    "        return self.image    "
   ]
  },
  {
   "cell_type": "code",
   "execution_count": null,
   "metadata": {},
   "outputs": [],
   "source": []
  },
  {
   "cell_type": "code",
   "execution_count": null,
   "metadata": {},
   "outputs": [],
   "source": []
  },
  {
   "cell_type": "code",
   "execution_count": null,
   "metadata": {},
   "outputs": [],
   "source": []
  },
  {
   "cell_type": "markdown",
   "metadata": {},
   "source": [
    "from random import randint, choice\n",
    "from IPython.display import display\n",
    "from time import sleep\n",
    "bogus_layout = {\n",
    "    'l_head': {          \n",
    "        'type': 'TextBlock',\n",
    "        'image': None,\n",
    "        'max_lines': 1,\n",
    "        'width': .5,\n",
    "        'height': .1,\n",
    "        'abs_coordinates': (0, 0),\n",
    "        'rand': True,\n",
    "        'font': '../fonts/Open_Sans/OpenSans-Regular.ttf',\n",
    "        'bkground': 'BLACK',\n",
    "        'fill': 'WHITE'\n",
    "    },\n",
    "    'r_head': {          \n",
    "        'type': 'TextBlock',\n",
    "        'image': None,\n",
    "        'max_lines': 1,\n",
    "        'width': .5,\n",
    "        'height': .1,\n",
    "        'abs_coordinates': (None, 0),\n",
    "        'relative': ('l_head', 'r_head'),\n",
    "        'rand': True,\n",
    "        'font': '../fonts/Open_Sans/OpenSans-Regular.ttf',\n",
    "        'bkground': 'RED',\n",
    "        'fill': 'BLACK'\n",
    "    },"
   ]
  },
  {
   "cell_type": "markdown",
   "metadata": {
    "lines_to_next_cell": 2
   },
   "source": [
    "    'number': {\n",
    "        'type': 'TextBlock',\n",
    "        'image': None,\n",
    "        'max_lines': 1,\n",
    "        'width': .6,\n",
    "        'height': .4,\n",
    "        'abs_coordinates': (0, None),\n",
    "        'relative': ('number', 'l_head'),\n",
    "        'rand': True,\n",
    "        'font': '../fonts/Open_Sans/OpenSans-Regular.ttf',\n",
    "    },\n",
    "    'small_number': {\n",
    "        'type': 'TextBlock',\n",
    "        'image': None,\n",
    "        'max_lines': 1,\n",
    "        'width': .4,\n",
    "        'height': .5,\n",
    "        'abs_coordinates': (None, None),\n",
    "        'relative': ('number', 'l_head'),\n",
    "        'rand': True,\n",
    "        'font': '../fonts/Open_Sans/OpenSans-Regular.ttf',\n",
    "        'fill': 'BLUE',\n",
    "        'bkground': 'GREEN',\n",
    "        'rgb_support': True\n",
    "    },\n",
    "    'text': {\n",
    "        'abs_coordinates': (0, None),\n",
    "        'relative': ('text', 'number'),\n",
    "        'type': 'TextBlock',\n",
    "        'image': None,\n",
    "        'max_lines': 3,\n",
    "        'height': .4,\n",
    "        'width': 1,\n",
    "        'rand': True,\n",
    "        'font': '../fonts/Open_Sans/OpenSans-Regular.ttf',\n",
    "        'fill': 'ORANGE',\n",
    "        'bkground': 'BLACK',\n",
    "        'rgb_support': True\n",
    "    }\n",
    "}"
   ]
  },
  {
   "cell_type": "markdown",
   "metadata": {
    "lines_to_next_cell": 2
   },
   "source": [
    "# config = {\n",
    "#     'resolution': [300, 200],\n",
    "#     'max_priority': 1,\n",
    "#     'refresh_rate': 2,\n",
    "#     'update_function': bogus_plugin,\n",
    "#     'layout': bogus_layout,\n",
    "#     'screen_mode': 'RGB',\n",
    "#     'plugin_timeout': 5,\n",
    "#     'name': 'Bogus',\n",
    "#     'foo': 'bar',\n",
    "#     'spam': False\n",
    "# }"
   ]
  },
  {
   "cell_type": "markdown",
   "metadata": {},
   "source": [
    "#     Plugin.update_function = bogus_plugin"
   ]
  },
  {
   "cell_type": "markdown",
   "metadata": {},
   "source": [
    "logger.root.setLevel('DEBUG')"
   ]
  },
  {
   "cell_type": "markdown",
   "metadata": {
    "lines_to_next_cell": 2
   },
   "source": [
    "l = Layout(resolution=(300, 200))\n",
    "l.layout = bogus_layout\n",
    "p = Layout(resolution=(800, 400))\n",
    "p.layout = bogus_layout"
   ]
  },
  {
   "cell_type": "markdown",
   "metadata": {},
   "source": [
    "# for i in range(5):\n",
    "#     .resolution = (randint(300, 800), randint(300, 600))\n",
    "#     logging.info(f'plugin resolution set to: {p.resolution}')\n",
    "#     p.layout_obj = None\n",
    "#     p.layout = bogus_layout\n",
    "#     for s in bogus_layout:\n",
    "#         colors = ['RED', 'ORANGE', 'YELLOW', 'GREEN', 'BLUE', 'BLACK', 'WHITE']\n",
    "#         fill = choice(colors)\n",
    "#         colors.remove(fill)\n",
    "#         bkground = choice(colors)\n",
    "#         p.layout_obj.update_block_props(block=s, props={'bkground': bkground, 'fill': fill}, force_recalc=True)"
   ]
  },
  {
   "cell_type": "markdown",
   "metadata": {
    "lines_to_next_cell": 2
   },
   "source": [
    "#     print('trying to update plugin')\n",
    "#     p.force_update()\n",
    "#     print('displaying image')\n",
    "#     display(p.image)\n",
    "# #         print('sleep for 1 second')\n",
    "#     sleep(1)"
   ]
  },
  {
   "cell_type": "markdown",
   "metadata": {},
   "source": [
    "print(f'l.layout: {l.resolution}')\n",
    "for k, v in l.blocks.items():\n",
    "    print(f'{k}\\n   a: {v.area}\\n   c: {v.abs_coordinates}')"
   ]
  },
  {
   "cell_type": "markdown",
   "metadata": {},
   "source": [
    "print(f'\\n\\np.layout: {p.resolution}')\n",
    "for k, v in p.blocks.items():\n",
    "    print(f'{k}\\n   a: {v.area}\\n   c: {v.abs_coordinates}')"
   ]
  },
  {
   "cell_type": "markdown",
   "metadata": {},
   "source": [
    "p.resolution = (100, 40)"
   ]
  },
  {
   "cell_type": "markdown",
   "metadata": {},
   "source": [
    "p._master_layout"
   ]
  },
  {
   "cell_type": "markdown",
   "metadata": {},
   "source": [
    "print(f'l.layout: {l.resolution}')\n",
    "for k, v in l.blocks.items():\n",
    "    print(f'{k}\\n   a: {v.area}\\n   c: {v.abs_coordinates}')"
   ]
  },
  {
   "cell_type": "markdown",
   "metadata": {},
   "source": [
    "print(f'\\n\\np.layout: {p.resolution}')\n",
    "for k, v in p.blocks.items():\n",
    "    print(f'{k}\\n   a: {v.area}\\n   c: {v.abs_coordinates}')"
   ]
  },
  {
   "cell_type": "code",
   "execution_count": null,
   "metadata": {},
   "outputs": [],
   "source": []
  }
 ],
 "metadata": {
  "kernelspec": {
   "display_name": "epdlib-AIMLabQa",
   "language": "python",
   "name": "epdlib-aimlabqa"
  },
  "language_info": {
   "codemirror_mode": {
    "name": "ipython",
    "version": 3
   },
   "file_extension": ".py",
   "mimetype": "text/x-python",
   "name": "python",
   "nbconvert_exporter": "python",
   "pygments_lexer": "ipython3",
   "version": "3.9.2"
  }
 },
 "nbformat": 4,
 "nbformat_minor": 4
}
